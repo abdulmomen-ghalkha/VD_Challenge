{
 "cells": [
  {
   "cell_type": "code",
   "execution_count": null,
   "id": "142e788a-f56d-49f5-89cb-43d5971f9cfd",
   "metadata": {},
   "outputs": [],
   "source": [
    "from PIL import Image, ImageFilter\n",
    "import numpy as np\n",
    "import matplotlib.pyplot as plt\n",
    "\n"
   ]
  },
  {
   "cell_type": "code",
   "execution_count": null,
   "id": "297d8443-1c07-4c94-a505-596fa3302feb",
   "metadata": {},
   "outputs": [],
   "source": [
    "# Load the image\n",
    "image_path = 'your_image.jpg'  # Replace with your image path\n",
    "try:\n",
    "    image = Image.open(image_path)\n",
    "except FileNotFoundError:\n",
    "    raise FileNotFoundError(f\"Image not found at {image_path}\")\n",
    "\n"
   ]
  },
  {
   "cell_type": "code",
   "execution_count": null,
   "id": "d62ac7e1-e267-4624-81d0-1b8e7d89fae9",
   "metadata": {},
   "outputs": [],
   "source": [
    "# Convert the image to RGB (if not already in RGB mode)\n",
    "image_rgb = image.convert(\"RGB\")\n",
    "\n",
    "# Define a 3x3 filter kernel (e.g., edge detection)\n",
    "filter_kernel = np.array([[-1, -1, -1],\n",
    "                          [-1,  8, -1],\n",
    "                          [-1, -1, -1]])\n",
    "\n",
    "# Normalize the kernel for PIL (PIL expects normalized kernels)\n",
    "filter_kernel_normalized = filter_kernel / filter_kernel.sum() if filter_kernel.sum() != 0 else filter_kernel\n",
    "\n",
    "# Apply the filter using PIL's filter method\n",
    "filtered_image = image_rgb.filter(ImageFilter.Kernel((3, 3), filter_kernel_normalized.flatten(), scale=1))\n",
    "\n",
    "# Convert images to arrays for visualization\n",
    "image_rgb_array = np.array(image_rgb)\n",
    "filtered_image_array = np.array(filtered_image)\n",
    "\n",
    "# Visualize the original and filtered images\n",
    "plt.figure(figsize=(10, 5))\n",
    "\n",
    "# Original image\n",
    "plt.subplot(1, 2, 1)\n",
    "plt.imshow(image_rgb_array)\n",
    "plt.title('Original Image')\n",
    "plt.axis('off')\n",
    "\n",
    "# Filtered image\n",
    "plt.subplot(1, 2, 2)\n",
    "plt.imshow(filtered_image_array)\n",
    "plt.title('Filtered Image')\n",
    "plt.axis('off')\n",
    "\n",
    "plt.tight_layout()\n",
    "plt.show()"
   ]
  }
 ],
 "metadata": {
  "kernelspec": {
   "display_name": "Python 3 (ipykernel)",
   "language": "python",
   "name": "python3"
  },
  "language_info": {
   "codemirror_mode": {
    "name": "ipython",
    "version": 3
   },
   "file_extension": ".py",
   "mimetype": "text/x-python",
   "name": "python",
   "nbconvert_exporter": "python",
   "pygments_lexer": "ipython3",
   "version": "3.9.20"
  }
 },
 "nbformat": 4,
 "nbformat_minor": 5
}
