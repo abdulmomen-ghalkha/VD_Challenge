{
 "cells": [
  {
   "cell_type": "code",
   "execution_count": 2,
   "id": "6377f2f7-eb4a-49af-8dc5-ca4be23e610e",
   "metadata": {},
   "outputs": [
    {
     "name": "stdout",
     "output_type": "stream",
     "text": [
      "CSV file created at file_locations.csv\n"
     ]
    }
   ],
   "source": [
    "import os\n",
    "import csv\n",
    "\n",
    "# Define the directories\n",
    "inputs_dir = 'VD_dataset2/inputs'\n",
    "targets_dir = 'VD_dataset2/targets'\n",
    "\n",
    "# Get the list of common files\n",
    "common_files = set(os.listdir(inputs_dir)).intersection(os.listdir(targets_dir))\n",
    "\n",
    "# Define the CSV file path\n",
    "csv_file_path = 'file_locations.csv'\n",
    "\n",
    "# Create and write to the CSV file\n",
    "with open(csv_file_path, 'w', newline='') as csvfile:\n",
    "    csvwriter = csv.writer(csvfile)\n",
    "    # Write the header\n",
    "    csvwriter.writerow(['File', 'input_path', 'target_path'])\n",
    "    # Write the file locations\n",
    "    for file in common_files:\n",
    "        input_path = os.path.join(inputs_dir, file)\n",
    "        target_path = os.path.join(targets_dir, file)\n",
    "        csvwriter.writerow([file, input_path, target_path])\n",
    "\n",
    "print(f'CSV file created at {csv_file_path}')\n"
   ]
  },
  {
   "cell_type": "code",
   "execution_count": null,
   "id": "2d979201-1278-4ee6-bf98-58791d577fae",
   "metadata": {},
   "outputs": [],
   "source": []
  }
 ],
 "metadata": {
  "kernelspec": {
   "display_name": "Python 3 (ipykernel)",
   "language": "python",
   "name": "python3"
  },
  "language_info": {
   "codemirror_mode": {
    "name": "ipython",
    "version": 3
   },
   "file_extension": ".py",
   "mimetype": "text/x-python",
   "name": "python",
   "nbconvert_exporter": "python",
   "pygments_lexer": "ipython3",
   "version": "3.9.21"
  }
 },
 "nbformat": 4,
 "nbformat_minor": 5
}
