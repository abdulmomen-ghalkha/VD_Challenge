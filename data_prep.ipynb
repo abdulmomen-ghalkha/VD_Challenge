{
 "cells": [
  {
   "cell_type": "code",
   "execution_count": 16,
   "id": "6377f2f7-eb4a-49af-8dc5-ca4be23e610e",
   "metadata": {},
   "outputs": [],
   "source": [
    "import os\n",
    "import csv\n",
    "\n",
    "# Define the directories\n",
    "dataset_dir = 'VD_dataset2/'\n",
    "\n",
    "\n",
    "# Get the list of common files\n",
    "files = os.listdir(dataset_dir)\n",
    "file_nums = list(set([file.split(\"_\")[0] for file in files if file.endswith(\".png\")]))\n",
    "file_nums.sort()\n"
   ]
  },
  {
   "cell_type": "code",
   "execution_count": 20,
   "id": "2d979201-1278-4ee6-bf98-58791d577fae",
   "metadata": {},
   "outputs": [
    {
     "name": "stdout",
     "output_type": "stream",
     "text": [
      "CSV file created at new_file_locations.csv\n"
     ]
    }
   ],
   "source": [
    "# Define the CSV file path\n",
    "csv_file_path = 'new_file_locations.csv'\n",
    "input_str = '_input.png'\n",
    "target_str = '_target.png'\n",
    "# Create and write to the CSV file\n",
    "with open(csv_file_path, 'w', newline='') as csvfile:\n",
    "    csvwriter = csv.writer(csvfile)\n",
    "    # Write the header\n",
    "    csvwriter.writerow(['File', 'input_path', 'target_path'])\n",
    "    # Write the file locations\n",
    "    for file in file_nums:\n",
    "        input_path = os.path.join(dataset_dir, file + input_str)\n",
    "        target_path = os.path.join(dataset_dir, file + target_str)\n",
    "        csvwriter.writerow([file, input_path, target_path])\n",
    "\n",
    "print(f'CSV file created at {csv_file_path}')\n"
   ]
  },
  {
   "cell_type": "code",
   "execution_count": null,
   "id": "f10174e7-5d62-4b39-a8c2-6c554f43477b",
   "metadata": {},
   "outputs": [],
   "source": []
  }
 ],
 "metadata": {
  "kernelspec": {
   "display_name": "Python 3 (ipykernel)",
   "language": "python",
   "name": "python3"
  },
  "language_info": {
   "codemirror_mode": {
    "name": "ipython",
    "version": 3
   },
   "file_extension": ".py",
   "mimetype": "text/x-python",
   "name": "python",
   "nbconvert_exporter": "python",
   "pygments_lexer": "ipython3",
   "version": "3.12.4"
  }
 },
 "nbformat": 4,
 "nbformat_minor": 5
}
